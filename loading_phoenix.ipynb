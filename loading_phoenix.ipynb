{
 "cells": [
  {
   "cell_type": "markdown",
   "metadata": {},
   "source": [
    "## Loading Phoenix\n",
    "\n",
    "Functions to load in phoenix spectra.\n",
    "To use in other notebooks."
   ]
  },
  {
   "cell_type": "code",
   "execution_count": 1,
   "metadata": {},
   "outputs": [],
   "source": [
    "from spectrum_overload import Spectrum\n",
    "\n",
    "import glob\n",
    "import os\n",
    "import pandas as pd\n",
    "import numpy as np\n",
    "import matplotlib.pyplot as plt\n",
    "\n",
    "import string\n",
    "import numpy as np\n",
    "from astropy.io import fits\n",
    "\n",
    "from astro_scripts.plot_fits import get_wavelength, ccf_astro, vac2air\n",
    "from PyAstronomy.pyasl.phoenixUtils.read import readUnit7, readDTable, decomposeFilename\n",
    "%matplotlib inline"
   ]
  },
  {
   "cell_type": "code",
   "execution_count": 2,
   "metadata": {},
   "outputs": [],
   "source": [
    "def load_phoenix_aces(fname):\n",
    "    \"\"\"\n",
    "    Returns\n",
    "    -------\n",
    "    wavelength  (nanometers)\n",
    "    flux        ('erg/s/cm^2/A' )\n",
    "    \n",
    "    \"\"\"\n",
    "    flux = fits.getdata(fname)\n",
    "    wav = \"data/WAVE_PHOENIX-ACES-AGSS-COND-2011.fits\"\n",
    "    return fits.getdata(wav) / 10, flux*1e-8\n",
    "\n",
    "def get_DF(fname):\n",
    "    \"\"\"Specify the DF value for equation.\n",
    "    \n",
    "    DF= -8.d0 for all most recent models (Ergs/sec/cm**2/cm). For older model\n",
    "    series like the NextGen and AMES-Cond grids DF= -26.9007901434d0, \n",
    "    because previous Phoenix outputs were giving out the luminosity, \n",
    "    L (= R**2 * H) in erg/s/cm**2/cm.  And for NextGen spectra\n",
    "    of effective temperature 5000K and above, DF'= -28.9007901434d0.\n",
    "\n",
    "    Note: Jason assumes there is a typo above and it is  /A instead of cm for Df=-8.\n",
    "        To match the flux units for column 2.\"\"\"\n",
    "\n",
    "    if \"AMES-Cond\" in fname:\n",
    "        DF = -26.9007901434\n",
    "    else:\n",
    "        DF = -8.0\n",
    "        # print(\"DF = {0}\".format(DF))\n",
    "    return DF\n",
    "    \n",
    "\n",
    "def load_Allard_Phoenix(fname):\n",
    "    \"\"\"Load the Phoenix models from France Allard.\n",
    "    \n",
    "    Input\n",
    "    -----\n",
    "    fname: str\n",
    "        Filename of Phoenix spectra.\n",
    "        \n",
    "    Returns\n",
    "    -------\n",
    "    wavelength          (nanometers)\n",
    "    flux                (Ergs/sec/cm**2/A)\n",
    "    black body flux     (Ergs/sec/cm**2/A)\n",
    "    \"\"\"\n",
    "\n",
    "    DF = get_DF(fname)\n",
    "\n",
    "    if fname.endswith(\".7\"):\n",
    "        # Spectra are provided in an ascii format (*.7.gz):\n",
    "        df = pd.read_table(fname, delim_whitespace=True, header=None, usecols=[0, 1, 2])\n",
    "        df = df.astype(str)\n",
    "        df[0] = df[0].str.replace(\"D\", \"E\")\n",
    "        df[1] = df[1].str.replace(\"D\", \"E\")\n",
    "        df[2] = df[2].str.replace(\"D\", \"E\")\n",
    "        df.columns = [\"wavelength\", \"flux\", \"bb_flux\"]\n",
    "        df = df.astype(np.float64)\n",
    "\n",
    "        # ***A very important point is that since models are often computed on parallel\n",
    "        # computers using several nodes, it is important to sort the spectra files in\n",
    "        # increasing wavelength order prior to using them.***\n",
    "        df.sort_values(by=\"wavelength\")\n",
    "        \n",
    "        # Cut db\n",
    "        df = df[(df[\"wavelength\"] > 3000) & (df[\"wavelength\"] < 50000)]\n",
    "        # column1: wavelength in Angstrom\n",
    "        # column2: 10**(F_lam + DF) to convert to Ergs/sec/cm**2/A\n",
    "        # column3: 10**(B_lam + DF) i.e. the blackbody fluxes of same Teff in same units.\n",
    "        wavelength = df[\"wavelength\"].values / 10  # to nanometers\n",
    "        flux = 10 ** (df[\"flux\"].values + DF)  # Ergs/sec/cm**2/A\n",
    "        bb_flux = 10 ** (df[\"bb_flux\"].values + DF)  # blackbody fluxes\n",
    "\n",
    "    elif fname.endswith(\".7\"):\n",
    "        # With the stacked ascii format (*.spec.gz files ) we have rather:\n",
    "        # line1: Teff logg [M/H] of the model\n",
    "        # line2: number of wavelengths\n",
    "        # line3: F_lam(n) X 10**DF , n=1,number of wavelengths\n",
    "        # lineX: B_lam(n) X 10**DF , n=1,number of wavelengths\n",
    "        # This older file format is no longer used and no ID output is provided with those files.\n",
    "        raise NotImplementedError\n",
    "    elif fname.endswith(\"cf128.sc.spid.fits\"):\n",
    "        data = fits.getdata(fname)\n",
    "        wavelength = data[\"wavelength\"]\n",
    "        flux = data[\"flux\"]\n",
    "        bb_flux = np.nan * np.ones_like(flux)        \n",
    "    else:\n",
    "        raise NotImplementedError(\"For spectra like {}\".format(fname))\n",
    "    \n",
    "    index = wavelength.argsort()\n",
    "    return wavelength[index], flux[index], bb_flux[index]\n",
    "\n",
    "\n",
    "# files can also use readUnit7 from pyastronomy phoneix utils. \n",
    "# but they give result in /cm. not /Angstrom. (factor of 10**8 that comes from DF for new models)\n",
    "def phoenix_readUnit7(fname):\n",
    "    \"\"\"Read in Phoenix using readUnit7 then separates out components.\n",
    "    \n",
    "    Returns\n",
    "    -------\n",
    "    wavelength      A\n",
    "    flux            (Ergs/sec/cm**2/A)\n",
    "    blackbody flux  (Ergs/sec/cm**2/A)\n",
    "    \"\"\"\n",
    "    from PyAstronomy.pyasl.phoenixUtils.read import readUnit7\n",
    "    result = readUnit7(fname)\n",
    "    return result[:,0], result[:,1]*1e-8, result[:,2]*1e-8\n",
    "\n",
    "\n",
    "def align2model(spectrum, model):\n",
    "    \"\"\"Doppler shift spectrum to Model, matched with ccf.\"\"\"\n",
    "    rv1, r_sun, c_sun, x_sun, y_sun = ccf_astro((spectrum.xaxis, -spectrum.flux + 1), (model.xaxis, -model.flux + 1))\n",
    "    spectrum.doppler_shift(-rv1)\n",
    "    return spectrum"
   ]
  },
  {
   "cell_type": "markdown",
   "metadata": {},
   "source": [
    "As we are mostly interested in the NIR I will limit the synthetic models to 1000-3000nm. This removes many large differences at the blue optical end."
   ]
  },
  {
   "cell_type": "code",
   "execution_count": 3,
   "metadata": {},
   "outputs": [],
   "source": [
    "limits = [2000, 3000]"
   ]
  },
  {
   "cell_type": "code",
   "execution_count": 4,
   "metadata": {},
   "outputs": [],
   "source": [
    "# Simple test that they load\n",
    "w_settl, f_settl, bb_settl = load_Allard_Phoenix(\"data/lte043.0-2.5-0.0a+0.0.BT-Settl.spec.7\")\n",
    "\n",
    "w_dusty, f_dusty, bb_dusty = load_Allard_Phoenix(\"data/lte043-2.5-0.0.BT-Dusty.spec.7\")\n",
    "\n",
    "w_next, f_next, bb_next = load_Allard_Phoenix(\"data/lte043-2.5-0.0a+0.0.BT-NextGen.7\")\n",
    "\n",
    "w_cond, f_cond, bb_cond = load_Allard_Phoenix(\"data/lte043-2.5-0.0a+0.0.BT-Cond.7\")\n",
    "\n",
    "w_aces, f_aces = load_phoenix_aces(\"data/lte04300-2.50-0.0.PHOENIX-ACES-AGSS-COND-2011-HiRes.fits\")\n"
   ]
  },
  {
   "cell_type": "code",
   "execution_count": 5,
   "metadata": {},
   "outputs": [
    {
     "ename": "NameError",
     "evalue": "name 'w_dusty_spec' is not defined",
     "output_type": "error",
     "traceback": [
      "\u001b[0;31m---------------------------------------------------------------------------\u001b[0m",
      "\u001b[0;31mNameError\u001b[0m                                 Traceback (most recent call last)",
      "\u001b[0;32m<ipython-input-5-db82b2f151c4>\u001b[0m in \u001b[0;36m<module>\u001b[0;34m()\u001b[0m\n\u001b[1;32m      1\u001b[0m \u001b[0;31m# Full Spectrum\u001b[0m\u001b[0;34m\u001b[0m\u001b[0;34m\u001b[0m\u001b[0m\n\u001b[1;32m      2\u001b[0m \u001b[0mplt\u001b[0m\u001b[0;34m.\u001b[0m\u001b[0mfigure\u001b[0m\u001b[0;34m(\u001b[0m\u001b[0mfigsize\u001b[0m\u001b[0;34m=\u001b[0m\u001b[0;34m(\u001b[0m\u001b[0;36m15\u001b[0m\u001b[0;34m,\u001b[0m \u001b[0;36m10\u001b[0m\u001b[0;34m)\u001b[0m\u001b[0;34m)\u001b[0m\u001b[0;34m\u001b[0m\u001b[0m\n\u001b[0;32m----> 3\u001b[0;31m \u001b[0mplt\u001b[0m\u001b[0;34m.\u001b[0m\u001b[0mplot\u001b[0m\u001b[0;34m(\u001b[0m\u001b[0mw_dusty_spec\u001b[0m\u001b[0;34m,\u001b[0m \u001b[0mf_dusty_spec\u001b[0m\u001b[0;34m,\u001b[0m \u001b[0mlabel\u001b[0m\u001b[0;34m=\u001b[0m\u001b[0;34m\"BT-DUSTY\"\u001b[0m\u001b[0;34m)\u001b[0m\u001b[0;34m\u001b[0m\u001b[0m\n\u001b[0m\u001b[1;32m      4\u001b[0m \u001b[0mplt\u001b[0m\u001b[0;34m.\u001b[0m\u001b[0mplot\u001b[0m\u001b[0;34m(\u001b[0m\u001b[0mw_settl\u001b[0m\u001b[0;34m,\u001b[0m \u001b[0mf_settl\u001b[0m\u001b[0;34m,\u001b[0m \u001b[0mlabel\u001b[0m\u001b[0;34m=\u001b[0m\u001b[0;34m\"BT-SETTL\"\u001b[0m\u001b[0;34m)\u001b[0m\u001b[0;34m\u001b[0m\u001b[0m\n\u001b[1;32m      5\u001b[0m \u001b[0mplt\u001b[0m\u001b[0;34m.\u001b[0m\u001b[0mplot\u001b[0m\u001b[0;34m(\u001b[0m\u001b[0mw_cond\u001b[0m\u001b[0;34m,\u001b[0m \u001b[0mf_cond\u001b[0m\u001b[0;34m,\u001b[0m \u001b[0mlabel\u001b[0m\u001b[0;34m=\u001b[0m\u001b[0;34m\"BT-COND\"\u001b[0m\u001b[0;34m)\u001b[0m\u001b[0;34m\u001b[0m\u001b[0m\n",
      "\u001b[0;31mNameError\u001b[0m: name 'w_dusty_spec' is not defined"
     ]
    },
    {
     "data": {
      "text/plain": [
       "<matplotlib.figure.Figure at 0x7f74f38f5e48>"
      ]
     },
     "metadata": {},
     "output_type": "display_data"
    }
   ],
   "source": [
    "# Full Spectrum\n",
    "plt.figure(figsize=(15, 10))\n",
    "plt.plot(w_dusty_spec, f_dusty_spec, label=\"BT-DUSTY\")\n",
    "plt.plot(w_settl, f_settl, label=\"BT-SETTL\")\n",
    "plt.plot(w_cond, f_cond, label=\"BT-COND\")\n",
    "plt.plot(w_aces, f_aces, linestyle=\"--\", label=\"PHOENIX ACES\")\n",
    "plt.plot(w_next, f_next, linestyle=\":\", label=\"NEXTGEN\")\n",
    "\n",
    "plt.title(\"Artucus - 4300K\")\n",
    "plt.xlabel(\"Wavelength(nm)\")\n",
    "plt.ylabel(\"Flux\")\n",
    "plt.legend()\n",
    "plt.show()"
   ]
  },
  {
   "cell_type": "code",
   "execution_count": null,
   "metadata": {},
   "outputs": [],
   "source": [
    "# Test PyAstronomy loader function compared to mine.\n",
    "\n",
    "from PyAstronomy.pyasl.phoenixUtils.read import readUnit7\n",
    "\n",
    "%timeit x,y,z = load_Allard_Phoenix(\"data/lte043-2.5-0.0.BT-Dusty.spec.7\")\n",
    "\n",
    "%timeit x = readUnit7(\"data/lte043-2.5-0.0.BT-Dusty.spec.7\")\n",
    "\n",
    "%timeit x, y, z = phoenix_readUnit7(\"data/lte043-2.5-0.0.BT-Dusty.spec.7\")\n",
    "# readUnit7 is faster."
   ]
  },
  {
   "cell_type": "code",
   "execution_count": null,
   "metadata": {},
   "outputs": [],
   "source": []
  },
  {
   "cell_type": "code",
   "execution_count": null,
   "metadata": {},
   "outputs": [],
   "source": []
  }
 ],
 "metadata": {
  "kernelspec": {
   "display_name": "Python [conda env:sims]",
   "language": "python",
   "name": "conda-env-sims-py"
  },
  "language_info": {
   "codemirror_mode": {
    "name": "ipython",
    "version": 3
   },
   "file_extension": ".py",
   "mimetype": "text/x-python",
   "name": "python",
   "nbconvert_exporter": "python",
   "pygments_lexer": "ipython3",
   "version": "3.6.3"
  }
 },
 "nbformat": 4,
 "nbformat_minor": 2
}
