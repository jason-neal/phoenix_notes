{
 "cells": [
  {
   "cell_type": "markdown",
   "metadata": {},
   "source": [
    "# Play with Starfish BTSETTL Grids:\n"
   ]
  },
  {
   "cell_type": "code",
   "execution_count": null,
   "metadata": {},
   "outputs": [],
   "source": [
    "import numpy as np\n",
    "\n",
    "import Starfish\n",
    "#from Starfish.grid_tools import PHOENIXGridInterfaceNoAlpha as PHOENIX\n",
    "from Starfish.grid_tools import HDF5Creator, Instrument\n",
    "\n",
    "from Starfish.grid_tools import BTSettlGridInterface as BTSETTL\n"
   ]
  },
  {
   "cell_type": "code",
   "execution_count": null,
   "metadata": {},
   "outputs": [],
   "source": [
    "class CRIRES_50k(Instrument):\n",
    "    '''CRIRES instrument at R=50000.'''\n",
    "    fwhm = 299792.458 / 50000     # fwhm = c / R\n",
    "    # Full crires wavelength range=(9500, 53800)\n",
    "    def __init__(self, name=\"CRIRES\", FWHM=fwhm, wl_range=Starfish.grid[\"wl_range\"]):\n",
    "        super().__init__(name=name, FWHM=FWHM, wl_range=wl_range)\n",
    "        # Sets the FWHM and wl_range\n",
    "        \n"
   ]
  },
  {
   "cell_type": "code",
   "execution_count": null,
   "metadata": {},
   "outputs": [],
   "source": [
    "mygrid = BTSETTL(norm=False, air=False, base=Starfish.grid[\"btsettle_raw\"])    # Disable normalization to solar boloametic flux.\n",
    "instrument = CRIRES_50k()\n",
    "# HDF5Creator(GridInterface, filename, Instrument, ranges=None, key_name='t{0:.0f}g{1:.1f}', vsinis=None)\n",
    "# Specify hdf5_path in config.yaml file.\n",
    "creator = HDF5Creator(mygrid, Starfish.grid[\"btsettle_hdf5_path\"], instrument, ranges=Starfish.grid[\"parrange\"])\n",
    "\n",
    "\n",
    "\n",
    "# Need to change starfish BT-SETTL to change how it handles param_names and points\n",
    "\n",
    "# Might need own interface as there is hardcoded folder CXXXX2011\n"
   ]
  },
  {
   "cell_type": "code",
   "execution_count": null,
   "metadata": {},
   "outputs": [],
   "source": [
    "creator.process_grid()"
   ]
  },
  {
   "cell_type": "markdown",
   "metadata": {},
   "source": [
    "# Loading BTSETTL Directly"
   ]
  },
  {
   "cell_type": "code",
   "execution_count": null,
   "metadata": {},
   "outputs": [],
   "source": [
    "from Starfish.grid_tools import load_BTSettl\n",
    "load_BTSettl(2200, 4.5, 0.0)\n"
   ]
  },
  {
   "cell_type": "markdown",
   "metadata": {},
   "source": [
    "The Starfish CIFISTGridInterface works directly with the CIFIST2011_2015 BT-Settl models which are the newest version."
   ]
  },
  {
   "cell_type": "code",
   "execution_count": null,
   "metadata": {},
   "outputs": [],
   "source": []
  }
 ],
 "metadata": {
  "anaconda-cloud": {},
  "kernelspec": {
   "display_name": "Python [conda env:sims]",
   "language": "python",
   "name": "conda-env-sims-py"
  },
  "language_info": {
   "codemirror_mode": {
    "name": "ipython",
    "version": 3
   },
   "file_extension": ".py",
   "mimetype": "text/x-python",
   "name": "python",
   "nbconvert_exporter": "python",
   "pygments_lexer": "ipython3",
   "version": "3.6.3"
  }
 },
 "nbformat": 4,
 "nbformat_minor": 2
}
