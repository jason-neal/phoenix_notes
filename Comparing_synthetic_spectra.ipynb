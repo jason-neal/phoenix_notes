{
 "cells": [
  {
   "cell_type": "markdown",
   "metadata": {},
   "source": [
    "# Comparing Phoenix Spectra"
   ]
  },
  {
   "cell_type": "markdown",
   "metadata": {},
   "source": [
    "Plot Phoenix aces and Phoenix BT-Settl for same parameters\n",
    "\n",
    "Also AMES Dusty Cond."
   ]
  },
  {
   "cell_type": "markdown",
   "metadata": {},
   "source": [
    "#### FORMAT OF THE SPECTRA OUTPUT FILES\n",
    "\n",
    "You can find the  pre-computed grids, also accessible via links on\n",
    "the bottom part of the simulator presentation page, or using this link:\n",
    "http://phoenix.ens-lyon.fr/Grids/\n",
    "\n",
    "The file names contain the main parameters of the models:\n",
    "lte{Teff/10}-{Logg}{[M/H]}a[alpha/H].GRIDNAME.7.spec.gz/bz2/xz\n",
    "is the synthetic spectrum for the requested effective temperature\n",
    "(Teff),surface gravity (Logg), metallicity by log10 number density with\n",
    "respect to solar values ([M/H]), and alpha element enhencement relative     \n",
    "to solar values [alpha/H]. The model grid is also mentioned in the name.\n",
    "\n",
    "Spectra are provided in an ascii format (\\*.7.gz):\n",
    "\n",
    "column1: wavelength in Angstroem\n",
    "column2: 10\\*\\*(F_lam + DF) to convert to Ergs/sec/cm\\*\\*2/A\n",
    "column3: 10\\*\\*(B_lam + DF) i.e. the blackbody fluxes of same Teff in same units.\n",
    "\n",
    "Additional columns, obtained systematically when computing spectra using the\n",
    "Phoenix simulator, give the information to identify atomic and molecular\n",
    "lines. This information is used by the idl scripts lineid.pro and plotid.pro \n",
    "which are provided in the user result package.  \n",
    "   \n",
    "With the stacked ascii format (\\*.spec.gz files ) we have rather:\n",
    "\n",
    "line1: Teff logg [M/H] of the model\n",
    "line2: number of wavelengths\n",
    "line3: F_lam(n) X 10\\*\\*DF , n=1,number of wavelengths\n",
    "lineX: B_lam(n) X 10\\*\\*DF , n=1,number of wavelengths\n"
   ]
  },
  {
   "cell_type": "code",
   "execution_count": 1,
   "metadata": {},
   "outputs": [
    {
     "ename": "NameError",
     "evalue": "name 'w_dusty_spec' is not defined",
     "output_type": "error",
     "traceback": [
      "\u001b[0;31m---------------------------------------------------------------------------\u001b[0m",
      "\u001b[0;31mNameError\u001b[0m                                 Traceback (most recent call last)",
      "\u001b[0;32m<ipython-input-1-39578c1caf90>\u001b[0m in \u001b[0;36m<module>\u001b[0;34m()\u001b[0m\n\u001b[1;32m      9\u001b[0m \u001b[0;32mfrom\u001b[0m \u001b[0mastropy\u001b[0m\u001b[0;34m.\u001b[0m\u001b[0mio\u001b[0m \u001b[0;32mimport\u001b[0m \u001b[0mfits\u001b[0m\u001b[0;34m\u001b[0m\u001b[0m\n\u001b[1;32m     10\u001b[0m \u001b[0;32mfrom\u001b[0m \u001b[0mspectrum_overload\u001b[0m \u001b[0;32mimport\u001b[0m \u001b[0mSpectrum\u001b[0m\u001b[0;34m\u001b[0m\u001b[0m\n\u001b[0;32m---> 11\u001b[0;31m \u001b[0;32mfrom\u001b[0m \u001b[0mloading_phoenix\u001b[0m \u001b[0;32mimport\u001b[0m \u001b[0mload_phoenix_aces\u001b[0m\u001b[0;34m,\u001b[0m \u001b[0mload_Allard_Phoenix\u001b[0m\u001b[0;34m,\u001b[0m \u001b[0malign2model\u001b[0m\u001b[0;34m\u001b[0m\u001b[0m\n\u001b[0m\u001b[1;32m     12\u001b[0m \u001b[0;34m\u001b[0m\u001b[0m\n\u001b[1;32m     13\u001b[0m \u001b[0mget_ipython\u001b[0m\u001b[0;34m(\u001b[0m\u001b[0;34m)\u001b[0m\u001b[0;34m.\u001b[0m\u001b[0mrun_line_magic\u001b[0m\u001b[0;34m(\u001b[0m\u001b[0;34m'matplotlib'\u001b[0m\u001b[0;34m,\u001b[0m \u001b[0;34m'inline'\u001b[0m\u001b[0;34m)\u001b[0m\u001b[0;34m\u001b[0m\u001b[0m\n",
      "\u001b[0;32m~/Phd/2017/Compare_PHOENIX/loading_phoenix.py\u001b[0m in \u001b[0;36m<module>\u001b[0;34m()\u001b[0m\n\u001b[1;32m    174\u001b[0m \u001b[0;31m# Full Spectrum\u001b[0m\u001b[0;34m\u001b[0m\u001b[0;34m\u001b[0m\u001b[0m\n\u001b[1;32m    175\u001b[0m \u001b[0mplt\u001b[0m\u001b[0;34m.\u001b[0m\u001b[0mfigure\u001b[0m\u001b[0;34m(\u001b[0m\u001b[0mfigsize\u001b[0m\u001b[0;34m=\u001b[0m\u001b[0;34m(\u001b[0m\u001b[0;36m15\u001b[0m\u001b[0;34m,\u001b[0m \u001b[0;36m10\u001b[0m\u001b[0;34m)\u001b[0m\u001b[0;34m)\u001b[0m\u001b[0;34m\u001b[0m\u001b[0m\n\u001b[0;32m--> 176\u001b[0;31m \u001b[0mplt\u001b[0m\u001b[0;34m.\u001b[0m\u001b[0mplot\u001b[0m\u001b[0;34m(\u001b[0m\u001b[0mw_dusty_spec\u001b[0m\u001b[0;34m,\u001b[0m \u001b[0mf_dusty_spec\u001b[0m\u001b[0;34m,\u001b[0m \u001b[0mlabel\u001b[0m\u001b[0;34m=\u001b[0m\u001b[0;34m\"BT-DUSTY\"\u001b[0m\u001b[0;34m)\u001b[0m\u001b[0;34m\u001b[0m\u001b[0m\n\u001b[0m\u001b[1;32m    177\u001b[0m \u001b[0mplt\u001b[0m\u001b[0;34m.\u001b[0m\u001b[0mplot\u001b[0m\u001b[0;34m(\u001b[0m\u001b[0mw_settl\u001b[0m\u001b[0;34m,\u001b[0m \u001b[0mf_settl\u001b[0m\u001b[0;34m,\u001b[0m \u001b[0mlabel\u001b[0m\u001b[0;34m=\u001b[0m\u001b[0;34m\"BT-SETTL\"\u001b[0m\u001b[0;34m)\u001b[0m\u001b[0;34m\u001b[0m\u001b[0m\n\u001b[1;32m    178\u001b[0m \u001b[0mplt\u001b[0m\u001b[0;34m.\u001b[0m\u001b[0mplot\u001b[0m\u001b[0;34m(\u001b[0m\u001b[0mw_cond\u001b[0m\u001b[0;34m,\u001b[0m \u001b[0mf_cond\u001b[0m\u001b[0;34m,\u001b[0m \u001b[0mlabel\u001b[0m\u001b[0;34m=\u001b[0m\u001b[0;34m\"BT-COND\"\u001b[0m\u001b[0;34m)\u001b[0m\u001b[0;34m\u001b[0m\u001b[0m\n",
      "\u001b[0;31mNameError\u001b[0m: name 'w_dusty_spec' is not defined"
     ]
    },
    {
     "data": {
      "text/plain": [
       "<matplotlib.figure.Figure at 0x7fb49fc58c50>"
      ]
     },
     "metadata": {},
     "output_type": "display_data"
    }
   ],
   "source": [
    "import glob\n",
    "import os\n",
    "import pandas as pd\n",
    "import numpy as np\n",
    "import matplotlib.pyplot as plt\n",
    "\n",
    "import string\n",
    "import numpy as np\n",
    "from astropy.io import fits\n",
    "from spectrum_overload import Spectrum\n",
    "from loading_phoenix import load_phoenix_aces, load_Allard_Phoenix, align2model\n",
    "\n",
    "%matplotlib inline"
   ]
  },
  {
   "cell_type": "code",
   "execution_count": null,
   "metadata": {},
   "outputs": [],
   "source": [
    "os.chdir(\"/home/jneal/Phd/2017/Compare_PHOENIX/\")\n",
    "os.getcwd()\n",
    "files = glob.glob(\"data/*\")\n",
    "# print(files)"
   ]
  },
  {
   "cell_type": "code",
   "execution_count": null,
   "metadata": {},
   "outputs": [],
   "source": [
    "\n",
    "def plot_allard_phoenix(fname, band=None):\n",
    "    wav, flux, bb_flux = load_Allard_Phoenix(fname)\n",
    "    plt.figure(figsize=(10, 8))\n",
    "    plt.plot(wav, flux, label=\"flux\")\n",
    "    plt.plot(wav, bb_flux, label=\"bb_flux\")\n",
    "    plt.legend()\n",
    "    plt.title(fname)\n",
    "    plt.xlabel(\"Wavelength\")\n",
    "    plt.ylabel(\"Flux\")\n"
   ]
  },
  {
   "cell_type": "code",
   "execution_count": null,
   "metadata": {},
   "outputs": [],
   "source": [
    "from PyAstronomy.pyasl.phoenixUtils.read import readUnit7, readDTable, decomposeFilename\n",
    "#readUnit7 is in units of per cm not per A\n",
    "\n",
    "decomposeFilename(\"lte4300-2.50-0.0a+0.0.BT-dusty-giant-2013.cf128.sc.spid.fits\")\n",
    "\n",
    "\n",
    "\n",
    "\n",
    "read7 = readUnit7(\"data/lte043.0-2.5-0.0a+0.0.BT-Settl.spec.7\")\n",
    "print(read7.shape)\n",
    "print(read7)\n",
    "plt.figure(figsize=(10, 8))\n",
    "plt.plot(read7[:, 0]/10, 10**read7[:, 1], \"--\", label=\"read7\")\n",
    "plt.plot(read7[:, 0]/10, 10**read7[:, 2], \"--\", label=\"read7 bb \")\n",
    "plt.legend()\n",
    "plt.xlim([700, 5000])\n",
    "plt.xlabel(\"Wavelength(nm)\")\n",
    "plt.ylabel(\"Ergs/sec/cm**2/A\")\n",
    "plt.title(\"BT-Settle 4300-2.5-0.0\")\n",
    "plt.show()\n"
   ]
  },
  {
   "cell_type": "code",
   "execution_count": null,
   "metadata": {},
   "outputs": [],
   "source": [
    "wav, flux, bb_flux = load_Allard_Phoenix(\"data/lte043.0-2.5-0.0a+0.0.BT-Settl.spec.7\")\n",
    "read7 = readUnit7(\"data/lte043.0-2.5-0.0a+0.0.BT-Settl.spec.7\")\n",
    "plt.figure(figsize=(10, 8))\n",
    "plt.plot(wav, flux, label=\"flux\")\n",
    "plt.plot(read7[0], read7[1], \"--\", label=\"read7\")\n",
    "plt.plot(wav, bb_flux, label=\"bb_flux\")\n",
    "plt.plot(read7[0], read7[1], \"--\", label=\"read7 bb \")\n",
    "plt.legend()\n",
    "plt.xlim([700, 5000])\n",
    "plt.xlabel(\"Wavelength(nm)\")\n",
    "plt.ylabel(\"Ergs/sec/cm**2/A\")\n",
    "plt.title(\"BT-Settle 4300-2.5-0.0\")\n",
    "plt.show()\n"
   ]
  },
  {
   "cell_type": "code",
   "execution_count": null,
   "metadata": {},
   "outputs": [],
   "source": [
    "plot_allard_phoenix(\"data/lte043.0-2.5-0.0a+0.0.BT-Settl.spec.7\")\n",
    "plt.show()"
   ]
  },
  {
   "cell_type": "code",
   "execution_count": null,
   "metadata": {},
   "outputs": [],
   "source": []
  },
  {
   "cell_type": "code",
   "execution_count": null,
   "metadata": {},
   "outputs": [],
   "source": [
    "wav, flux, bb_flux = load_Allard_Phoenix(\"data/lte430-3.5-0.5a+0.2.BT-Cond.7\")\n",
    "\n",
    "plt.figure(figsize=(10, 8))\n",
    "plt.plot(wav, flux, label=\"flux\")\n",
    "plt.plot(wav, bb_flux, label=\"bb_flux\")\n",
    "plt.legend()\n",
    "plt.xlim([700, 5000])\n",
    "plt.ylim([1e1, 1e10])\n",
    "plt.xlabel(\"Wavelength(nm)\")\n",
    "plt.ylabel(\"Ergs/sec/cm**2/A\")\n",
    "plt.title(\"BT-Cond 4300-3.5-0.5\")\n",
    "#plt.ylim([10, 18])\n",
    "plt.show()"
   ]
  },
  {
   "cell_type": "code",
   "execution_count": null,
   "metadata": {},
   "outputs": [],
   "source": [
    "\n",
    "wav, flux, bb_flux = load_Allard_Phoenix(\"data/lte043-2.5-0.0.BT-Dusty.spec.7\")\n",
    "\n",
    "plt.figure(figsize=(10, 8))\n",
    "plt.plot(wav, flux, label=\"flux\")\n",
    "plt.plot(wav, bb_flux, \".\", label=\"bb_flux\")\n",
    "plt.legend()\n",
    "plt.xlim([700, 5000])\n",
    "plt.xlabel(\"Wavelength(nm)\")\n",
    "plt.ylabel(\"Ergs/sec/cm**2/A\")\n",
    "plt.title(\"BT-Dusty 4300-2.5-0.0\")\n",
    "plt.legend()\n",
    "plt.show()"
   ]
  },
  {
   "cell_type": "code",
   "execution_count": null,
   "metadata": {},
   "outputs": [],
   "source": [
    "\n",
    "wav, flux, bb_flux = load_Allard_Phoenix(\"data/lte043.0-2.5-0.0a+0.0.BT-Settl.spec.7\")\n",
    "\n",
    "plt.figure(figsize=(10, 8))\n",
    "plt.plot(wav, flux, label=\"flux\")\n",
    "plt.plot(wav, bb_flux, label=\"bb_flux\")\n",
    "plt.legend()\n",
    "plt.xlim([700, 5000])\n",
    "plt.xlabel(\"Wavelength(nm)\")\n",
    "plt.ylabel(\"Ergs/sec/cm**2/A\")\n",
    "plt.title(\"BT-Dusty 4300-2.5-0.0\")\n",
    "plt.legend()\n",
    "plt.show()"
   ]
  },
  {
   "cell_type": "markdown",
   "metadata": {},
   "source": [
    "### COMPARING MODELS"
   ]
  },
  {
   "cell_type": "code",
   "execution_count": null,
   "metadata": {},
   "outputs": [],
   "source": [
    "Artucus = [4300, 1.50, -0.5]\n",
    "HD30501 = [5200, 4.5, 0.0]\n",
    "ACES_bottom = [2300, 4.5, 0.0]\n",
    "Sun = [5800, 4.5, 0.0]"
   ]
  },
  {
   "cell_type": "code",
   "execution_count": null,
   "metadata": {},
   "outputs": [],
   "source": [
    "# Teff 5800, 4.5, 0.0\n",
    "# comparison_plot(\"Sun\", *Sun)\n",
    "from spectrum_overload import Spectrum\n",
    "\n",
    "\n",
    "w_next, f_next, bb_next = load_Allard_Phoenix(\"data/lte580-4.5-0.0a+0.0.BT-NextGen.7\")\n",
    "next_spec = Spectrum(xaxis=w_next, flux=f_next) \n",
    "w_dusty_spec, f_dusty_spec, bb_dusty_spec = load_Allard_Phoenix(\"data/lte058-4.5-0.0.BT-Dusty.spec.7\")\n",
    "dusty_spec = Spectrum(xaxis=w_dusty_spec, flux=f_dusty_spec) \n",
    "w_settl, f_settl, bb_settl = load_Allard_Phoenix(\"data/lte058.0-4.5-0.0a+0.0.BT-Settl.spec.7\")\n",
    "settl_spec = Spectrum(xaxis=w_settl, flux=f_settl) \n",
    "w_cond, f_cond, bb_cond = load_Allard_Phoenix(\"data/lte580-4.5-0.0a+0.0.BT-Cond.7\")\n",
    "cond_spec = Spectrum(xaxis=w_cond, flux=f_cond) \n",
    "w_aces, f_aces = load_phoenix_aces(\"data/lte05800-4.50-0.0.PHOENIX-ACES-AGSS-COND-2011-HiRes.fits\")\n",
    "aces_spec = Spectrum(xaxis=w_aces, flux=f_aces) \n",
    "w_dusty_fits, f_dusty_fits, bb_dusty_fits = load_Allard_Phoenix(\"data/lte5800-4.50-0.0a+0.0.BT-dusty-giant-2013.cf128.sc.spid.fits\")\n",
    "w_dusty_fits = w_dusty_fits*1000\n",
    "dusty_fits_spec = Spectrum(xaxis=w_dusty_fits, flux=f_dusty_fits) \n",
    "\n",
    "plt.figure(figsize=(15, 10))\n",
    "plt.plot(w_dusty_spec, f_dusty_spec/max(f_dusty_spec), label=\"Dusty spec\")\n",
    "plt.plot(w_settl, f_settl/max(f_settl), label=\"BT-SETTL\")\n",
    "plt.plot(w_cond, f_cond/max(f_cond), label=\"BT-COND\")\n",
    "plt.plot(w_aces, f_aces/max(f_aces), label=\"PHOENIX ACES\")\n",
    "plt.plot(w_dusty_fits, f_dusty_fits/max(f_dusty_fits), label=\"Dusty fits\")\n",
    "plt.plot(w_next, f_next/max(f_next), label=\"NEXTGEN\")\n",
    "plt.title(\"Sun - 5800K\")\n",
    "plt.xlabel(\"Wavelength(nm)\")\n",
    "plt.ylabel(\"Flux\")\n",
    "plt.legend()\n",
    "plt.show()"
   ]
  },
  {
   "cell_type": "code",
   "execution_count": null,
   "metadata": {},
   "outputs": [],
   "source": [
    "limits = [2116, 2120]\n",
    "next_spec.wav_select(*limits)\n",
    "#print(next_spec.xaxis, next_spec.flux)\n",
    "next_spec = next_spec.normalize(\"exponential\")\n",
    "dusty_spec.wav_select(*limits)\n",
    "dusty_spec = dusty_spec.normalize(\"exponential\")\n",
    "settl_spec.wav_select(*limits)\n",
    "settl_spec = settl_spec.normalize(\"exponential\")\n",
    "cond_spec.wav_select(*limits)\n",
    "cond_spec = cond_spec.normalize(\"exponential\")\n",
    "aces_spec.wav_select(*limits)\n",
    "aces_spec = aces_spec.normalize(\"exponential\")\n",
    "dusty_fits_spec.wav_select(*limits)\n",
    "dusty_fits_spec = dusty_fits_spec.normalize(\"exponential\")\n"
   ]
  },
  {
   "cell_type": "code",
   "execution_count": null,
   "metadata": {},
   "outputs": [],
   "source": [
    "\n",
    "next_spec.plot(label=\"nextgen\")\n",
    "dusty_spec.plot(label=\"dusty_spec\")\n",
    "cond_spec.plot(label=\"cond\")\n",
    "aces_spec.plot(label=\"aces\")\n",
    "dusty_fits_spec.plot(label=\"dusty_fits\")\n",
    "settl_spec.plot(label=\"settl\")\n",
    "plt.legend()\n",
    "plt.show()"
   ]
  },
  {
   "cell_type": "code",
   "execution_count": null,
   "metadata": {},
   "outputs": [],
   "source": [
    "\n",
    "next_spec.plot(label=\"nextgen\")\n",
    "plt.legend()\n",
    "plt.show()\n",
    "dusty_spec.plot(label=\"dusty_spec\")\n",
    "plt.legend()\n",
    "plt.show()\n",
    "settl_spec.plot(label=\"settl\")\n",
    "plt.legend()\n",
    "plt.show()\n",
    "cond_spec.plot(label=\"cond\")\n",
    "plt.legend()\n",
    "plt.show()\n",
    "aces_spec.plot(label=\"aces\")\n",
    "plt.legend()\n",
    "plt.show()\n",
    "dusty_fits_spec.plot(label=\"dusty_fits\")\n",
    "\n",
    "plt.legend()\n",
    "plt.show()\n",
    "\n",
    "dusty_spec.plot(label=\"dusty_spec\")\n",
    "dusty_fits_spec.plot(linestyle=\"--\",label=\"dusty_fits\")\n",
    "plt.legend()\n",
    "plt.show()"
   ]
  },
  {
   "cell_type": "code",
   "execution_count": null,
   "metadata": {},
   "outputs": [],
   "source": [
    "aces_spec.plot(label=\"aces\")\n",
    "dusty_spec.plot(linestyle=\"-.\", label=\"dusty_spec\")\n",
    "settl_spec.plot(linestyle=\":\", color=\"k\", label=\"settl\")\n",
    "dusty_fits_spec.plot(linestyle=\"--\", label=\"dusty_fits\")\n",
    "\n",
    "plt.legend()\n",
    "plt.show()"
   ]
  },
  {
   "cell_type": "markdown",
   "metadata": {},
   "source": [
    "## PHONEIX ACES Limit - Teff 2300, 4.5, 0.0"
   ]
  },
  {
   "cell_type": "code",
   "execution_count": null,
   "metadata": {},
   "outputs": [],
   "source": [
    "\n",
    "# comparison_plot(\"ACES_bottom\", *ACES_bottom)\n",
    "\n",
    "w_next, f_next, bb_next = load_Allard_Phoenix(\"data/lte023-5.0-0.0.BT-NextGen.7\")\n",
    "next_spec = Spectrum(xaxis=w_next, flux=f_next) \n",
    "\n",
    "w_dusty_spec, f_dusty_spec, bb_dusty_spec = load_Allard_Phoenix(\"data/lte023-4.5-0.0.BT-Dusty.spec.7\")\n",
    "dusty_spec = Spectrum(xaxis=w_dusty_spec, flux=f_dusty_spec) \n",
    "\n",
    "w_settl, f_settl, bb_settl = load_Allard_Phoenix(\"data/lte023.0-4.5-0.0a+0.0.BT-Settl.spec.7\")\n",
    "settl_spec = Spectrum(xaxis=w_settl, flux=f_settl) \n",
    "\n",
    "w_cond, f_cond, bb_cond = load_Allard_Phoenix(\"data/lte230-4.5-0.0a+0.0.BT-Cond.7\")\n",
    "cond_spec = Spectrum(xaxis=w_cond, flux=f_cond) \n",
    "\n",
    "w_aces, f_aces = load_phoenix_aces(\"data/lte02300-4.50-0.0.PHOENIX-ACES-AGSS-COND-2011-HiRes.fits\")\n",
    "aces_spec = Spectrum(xaxis=w_aces, flux=f_aces) \n",
    "w_dusty_fits, f_dusty_fits, bb_dusty_fits = load_Allard_Phoenix(\"data/lte5800-4.50-0.0a+0.0.BT-dusty-giant-2013.cf128.sc.spid.fits\")\n",
    "w_dusty_fits = w_dusty_fits*1000\n",
    "dusty_fits_spec = Spectrum(xaxis=w_dusty_fits, flux=f_dusty_fits) \n",
    "\n",
    "\n",
    "limits = [2100, 2200]\n",
    "next_spec.wav_select(*limits)\n",
    "# print(next_spec.xaxis, next_spec.flux)\n",
    "next_spec = next_spec.normalize(\"exponential\")\n",
    "dusty_spec.wav_select(*limits)\n",
    "dusty_spec = dusty_spec.normalize(\"exponential\")\n",
    "settl_spec.wav_select(*limits)\n",
    "settl_spec = settl_spec.normalize(\"exponential\")\n",
    "cond_spec.wav_select(*limits)\n",
    "cond_spec = cond_spec.normalize(\"exponential\")\n",
    "aces_spec.wav_select(*limits)\n",
    "aces_spec = aces_spec.normalize(\"exponential\")\n",
    "dusty_fits_spec.wav_select(*limits)\n",
    "dusty_fits_spec = dusty_fits_spec.normalize(\"exponential\")\n",
    "\n"
   ]
  },
  {
   "cell_type": "code",
   "execution_count": null,
   "metadata": {},
   "outputs": [],
   "source": [
    "\n",
    "aces_spec.plot(label=\"aces\")\n",
    "dusty_spec.plot(linestyle=\"-.\", label=\"dusty_spec\")\n",
    "settl_spec.plot(linestyle=\":\", color=\"k\", label=\"settl\")\n",
    "\n",
    "plt.title(\"Spectra at 2300 K\")\n",
    "plt.legend()\n",
    "plt.show()"
   ]
  },
  {
   "cell_type": "code",
   "execution_count": null,
   "metadata": {},
   "outputs": [],
   "source": [
    "\n",
    "aces_spec.plot(label=\"aces\")\n",
    "dusty_spec.plot(linestyle=\"-.\", label=\"dusty_spec\")\n",
    "settl_spec.plot(linestyle=\":\", color=\"k\", label=\"settl\")\n",
    "\n",
    "plt.title(\"Spectra at 2300 K\")\n",
    "plt.xlim([2120, 2120.5])\n",
    "plt.legend()\n",
    "plt.show()"
   ]
  },
  {
   "cell_type": "code",
   "execution_count": null,
   "metadata": {},
   "outputs": [],
   "source": []
  },
  {
   "cell_type": "code",
   "execution_count": null,
   "metadata": {},
   "outputs": [],
   "source": [
    "\n"
   ]
  },
  {
   "cell_type": "code",
   "execution_count": null,
   "metadata": {},
   "outputs": [],
   "source": []
  },
  {
   "cell_type": "code",
   "execution_count": null,
   "metadata": {},
   "outputs": [],
   "source": [
    "aces_spec.plot(label=\"aces\")\n",
    "dusty_spec.plot(linestyle=\"-.\", label=\"dusty_spec\")\n",
    "settl_spec.plot(linestyle=\":\", color=\"k\", label=\"settl\")\n",
    "dusty_fits_spec.plot(linestyle=\"--\", label=\"dusty_fits\")\n",
    "\n",
    "plt.legend()\n",
    "plt.show()"
   ]
  },
  {
   "cell_type": "code",
   "execution_count": null,
   "metadata": {},
   "outputs": [],
   "source": [
    "# Teff 5200, 4.5, 0.0\n",
    "# HD30501 Host\n",
    "\n",
    "w_next, f_next, bb_next = load_Allard_Phoenix(\"data/lte520-4.5-0.0a+0.0.BT-NextGen.7\")\n",
    "next_spec = Spectrum(xaxis=w_next, flux=f_next) \n",
    "\n",
    "w_dusty, f_dusty, bb_dusty = load_Allard_Phoenix(\"data/lte052-4.5-0.0.BT-Dusty.spec.7\")\n",
    "dusty_spec = Spectrum(xaxis=w_dusty, flux=f_dusty) \n",
    "\n",
    "w_settl, f_settl, bb_settl = load_Allard_Phoenix(\"data/lte052.0-4.5-0.0a+0.0.BT-Settl.spec.7\")\n",
    "settl_spec = Spectrum(xaxis=w_settl, flux=f_settl) \n",
    "\n",
    "w_cond, f_cond, bb_cond = load_Allard_Phoenix(\"data/lte520-4.5-0.5a+0.0.BT-Cond.7\")\n",
    "cond_spec = Spectrum(xaxis=w_cond, flux=f_cond) \n",
    "\n",
    "w_aces, f_aces = load_phoenix_aces(\"data/lte05200-4.50-0.0.PHOENIX-ACES-AGSS-COND-2011-HiRes.fits\")\n",
    "aces_spec = Spectrum(xaxis=w_aces, flux=f_aces) \n",
    "\n",
    "w_dusty_fits, f_dusty_fits, bb_dusty_fits = load_Allard_Phoenix(\"data/lte5200-4.50-0.0a+0.0.BT-dusty-giant-2013.cf128.sc.spid.fits\")\n",
    "w_dusty_fits = w_dusty_fits*1000\n",
    "dusty_fits_spec = Spectrum(xaxis=w_dusty_fits, flux=f_dusty_fits) \n",
    "\n"
   ]
  },
  {
   "cell_type": "code",
   "execution_count": null,
   "metadata": {},
   "outputs": [],
   "source": [
    "\n",
    "limits = [2100, 2200]\n",
    "next_spec.wav_select(*limits)\n",
    "print(next_spec.xaxis, next_spec.flux)\n",
    "next_spec = next_spec.normalize(\"exponential\")\n",
    "dusty_spec.wav_select(*limits)\n",
    "dusty_spec = dusty_spec.normalize(\"exponential\")\n",
    "settl_spec.wav_select(*limits)\n",
    "settl_spec = settl_spec.normalize(\"exponential\")\n",
    "cond_spec.wav_select(*limits)\n",
    "cond_spec = cond_spec.normalize(\"exponential\")\n",
    "aces_spec.wav_select(*limits)\n",
    "aces_spec = aces_spec.normalize(\"exponential\")\n",
    "dusty_fits_spec.wav_select(*limits)\n",
    "dusty_fits_spec = dusty_fits_spec.normalize(\"exponential\")\n"
   ]
  },
  {
   "cell_type": "code",
   "execution_count": null,
   "metadata": {},
   "outputs": [],
   "source": [
    "aces_spec.plot(label=\"aces\")\n",
    "dusty_spec.plot(linestyle=\"-.\", label=\"dusty_spec\")\n",
    "settl_spec.plot(linestyle=\":\", color=\"k\", label=\"settl\")\n",
    "dusty_fits_spec.plot(linestyle=\"--\", label=\"dusty_fits\")\n",
    "\n",
    "plt.legend()\n",
    "plt.show()"
   ]
  },
  {
   "cell_type": "code",
   "execution_count": null,
   "metadata": {},
   "outputs": [],
   "source": []
  },
  {
   "cell_type": "code",
   "execution_count": null,
   "metadata": {},
   "outputs": [],
   "source": []
  },
  {
   "cell_type": "markdown",
   "metadata": {},
   "source": [
    "# Comparing to ARTUCUS\n",
    "\n",
    "it is 100000 Resolving power"
   ]
  },
  {
   "cell_type": "code",
   "execution_count": null,
   "metadata": {},
   "outputs": [],
   "source": [
    "files_1 = glob.glob(\"/home/jneal/Phd/data/artucus/1*.fits\")\n",
    "files_2 = glob.glob(\"/home/jneal/Phd/data/artucus/2*.fits\")\n",
    "for f in files_1:\n",
    "    print(f)\n",
    "for f in files_2:\n",
    "    print(f)"
   ]
  },
  {
   "cell_type": "code",
   "execution_count": null,
   "metadata": {},
   "outputs": [],
   "source": [
    "from astro_scripts.plot_fits import get_wavelength\n",
    "\n",
    "\n",
    "for f in files_1:\n",
    "    data, hdr = fits.getdata(f, header=True)\n",
    "    wave = get_wavelength(hdr, convert=False)\n",
    "    \n",
    "    plt.plot(wave, data)\n",
    "plt.title(\"Artucus at 1000nm\")\n",
    "plt.show()\n",
    "\n",
    "for f in files_2:\n",
    "    data, hdr = fits.getdata(f, header=True)\n",
    "    wave = get_wavelength(hdr, convert=False)\n",
    "    \n",
    "    plt.plot(wave, data)\n",
    "plt.title(\"Artucus at 2000nm\")\n",
    "plt.show()"
   ]
  },
  {
   "cell_type": "code",
   "execution_count": null,
   "metadata": {},
   "outputs": [],
   "source": [
    "\n",
    "artucus_1 = \"/home/jneal/Phd/data/artucus/10097-10155_s-obs.fits\"\n",
    "data, hdr = fits.getdata(artucus_1, header=True)\n",
    "\n",
    "artucus_1 = Spectrum(xaxis=get_wavelength(hdr)/10, flux=data, header=hdr )\n",
    "\n",
    "artucus_2 = \"/home/jneal/Phd/data/artucus/21380-21518_s-obs.fits\"\n",
    "data, hdr = fits.getdata(artucus_2, header=True)\n",
    "\n",
    "artucus_2 = Spectrum(xaxis=get_wavelength(hdr)/10, flux=data, header=hdr)"
   ]
  },
  {
   "cell_type": "markdown",
   "metadata": {},
   "source": [
    "# Comparing Artucus at 1um"
   ]
  },
  {
   "cell_type": "code",
   "execution_count": null,
   "metadata": {},
   "outputs": [],
   "source": [
    "artucus_1.plot()\n",
    "plt.show()\n"
   ]
  },
  {
   "cell_type": "code",
   "execution_count": null,
   "metadata": {},
   "outputs": [],
   "source": [
    "artucus_2.plot()\n",
    "plt.show()"
   ]
  },
  {
   "cell_type": "code",
   "execution_count": null,
   "metadata": {},
   "outputs": [],
   "source": [
    "# Teff 4300, 1.5 logg, -0.5 [Fe/H]\n",
    "# comparison_plot(\"Artucus\", *Artucus)\n",
    "\n",
    "w_next, f_next, bb_next = load_Allard_Phoenix(\"data/lte043-2.5-0.0a+0.0.BT-NextGen.7\")\n",
    "next_spec = Spectrum(xaxis=w_next, flux=f_next) \n",
    "\n",
    "w_dusty, f_dusty, bb_dusty = load_Allard_Phoenix(\"data/lte043-2.5-0.0.BT-Dusty.spec.7\")\n",
    "dusty_spec = Spectrum(xaxis=w_dusty, flux=f_dusty) \n",
    "\n",
    "w_settl, f_settl, bb_settl = load_Allard_Phoenix(\"data/lte043.0-2.5-0.0a+0.0.BT-Settl.spec.7\")\n",
    "settl_spec = Spectrum(xaxis=w_settl, flux=f_settl) \n",
    "\n",
    "w_cond, f_cond, bb_cond = load_Allard_Phoenix(\"data/lte043-2.5-0.0a+0.0.BT-Cond.7\")\n",
    "cond_spec = Spectrum(xaxis=w_cond, flux=f_cond) \n",
    "\n",
    "w_aces, f_aces = load_phoenix_aces(\"data/lte04300-1.50-0.5.PHOENIX-ACES-AGSS-COND-2011-HiRes.fits\")\n",
    "aces_spec = Spectrum(xaxis=w_aces, flux=f_aces) \n",
    "\n",
    "#w_dusty_fits, f_dusty_fits, bb_dusty_fits = load_Allard_Phoenix(\"data/lte4300-2.50-0.0a+0.0.BT-dusty-giant-2013.cf128.vo0.spid.fits\")\n",
    "#w_dusty_fits = w_dusty_fits*1000\n",
    "#dusty_fits_spec = Spectrum(xaxis=w_dusty_fits, flux=f_dusty_fits) \n"
   ]
  },
  {
   "cell_type": "code",
   "execution_count": null,
   "metadata": {},
   "outputs": [],
   "source": [
    "limits = [2100, 2200]\n",
    "limits = [artucus_1.xaxis[0], artucus_1.xaxis[-1]]\n",
    "next_spec.wav_select(*limits)\n",
    "print(next_spec.xaxis, next_spec.flux)\n",
    "next_spec = next_spec.normalize(\"exponential\")\n",
    "dusty_spec.wav_select(*limits)\n",
    "dusty_spec = dusty_spec.normalize(\"exponential\")\n",
    "settl_spec.wav_select(*limits)\n",
    "settl_spec = settl_spec.normalize(\"exponential\")\n",
    "cond_spec.wav_select(*limits)\n",
    "cond_spec = cond_spec.normalize(\"exponential\")\n",
    "aces_spec.wav_select(*limits)\n",
    "aces_spec = aces_spec.normalize(\"exponential\")\n",
    "dusty_fits_spec.wav_select(*limits)\n",
    "dusty_fits_spec = dusty_fits_spec.normalize(\"exponential\")\n"
   ]
  },
  {
   "cell_type": "code",
   "execution_count": null,
   "metadata": {},
   "outputs": [],
   "source": []
  },
  {
   "cell_type": "code",
   "execution_count": null,
   "metadata": {},
   "outputs": [],
   "source": [
    "artucus_1.plot(\"Artucus\")\n",
    "aces_spec.plot(label=\"aces\")\n",
    "dusty_spec.plot(linestyle=\"-.\", label=\"dusty_spec\")\n",
    "settl_spec.plot(linestyle=\":\", color=\"k\", label=\"settl\")\n",
    "dusty_fits_spec.plot(linestyle=\"--\", label=\"dusty_fits\")\n",
    "\n",
    "plt.legend()\n",
    "plt.show()"
   ]
  },
  {
   "cell_type": "code",
   "execution_count": null,
   "metadata": {},
   "outputs": [],
   "source": []
  },
  {
   "cell_type": "code",
   "execution_count": null,
   "metadata": {},
   "outputs": [],
   "source": [
    "# BTSETTL RESOLUTION\n",
    "# The spectral resolution used to compute the *.spec.7.bz2 spectra is following or better:\n",
    "# 0.02A in the optical, and 0.05A in the infrared for the most recent files.\n",
    "\n",
    "# At 2000 nm this amounts to a Resolution of  R = lambda/delta lambda\n",
    "wav = 20000  # Angstrom\n",
    "dwav = 0.05\n",
    "print(\"Resolution of {}A at {}A gives, resolving power R={}\".format(dwav, wav, wav/dwav))\n",
    "\n",
    "# Need to convovlve to a give resolution."
   ]
  },
  {
   "cell_type": "markdown",
   "metadata": {},
   "source": [
    "\n",
    " BT-Cond Teff =2600K to 70000K\n",
    "\n",
    "\n",
    "from FORMAT\n",
    "\n",
    "In the case of the most recent models, the Barber & Tennison (UCL) so-called BT2 water vapor line list\n",
    "has been used explaining why all those models bear names starting with 'BT-'. \n",
    "BT-Dusty refers to dust in equilibrium with the gas phase (sedimentation is\n",
    "neglected), while BT-Cond includes dust condensation in equilibrium with the\n",
    "gas phase while neglecting their opacities in the radiative transfer. BT-Settl\n",
    "means that gravitational settling of sedimentation is accounted for in the\n",
    "frame of a detailed cloud model "
   ]
  },
  {
   "cell_type": "code",
   "execution_count": null,
   "metadata": {},
   "outputs": [],
   "source": []
  }
 ],
 "metadata": {
  "anaconda-cloud": {},
  "kernelspec": {
   "display_name": "Python [conda env:sims]",
   "language": "python",
   "name": "conda-env-sims-py"
  },
  "language_info": {
   "codemirror_mode": {
    "name": "ipython",
    "version": 3
   },
   "file_extension": ".py",
   "mimetype": "text/x-python",
   "name": "python",
   "nbconvert_exporter": "python",
   "pygments_lexer": "ipython3",
   "version": "3.6.3"
  }
 },
 "nbformat": 4,
 "nbformat_minor": 2
}
